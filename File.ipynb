{
 "cells": [
  {
   "cell_type": "code",
   "execution_count": 1,
   "id": "9eb2a78c",
   "metadata": {},
   "outputs": [],
   "source": [
    "from plotly.offline import download_plotlyjs,init_notebook_mode,plot,iplot\n",
    "import plotly.graph_objs as go"
   ]
  },
  {
   "cell_type": "code",
   "execution_count": 2,
   "id": "c6904605",
   "metadata": {},
   "outputs": [],
   "source": [
    "#!pip install chart-studio"
   ]
  },
  {
   "cell_type": "code",
   "execution_count": 3,
   "id": "beaac246",
   "metadata": {},
   "outputs": [],
   "source": [
    "import chart_studio.plotly as plt"
   ]
  },
  {
   "cell_type": "code",
   "execution_count": 4,
   "id": "cd89c972",
   "metadata": {},
   "outputs": [
    {
     "data": {
      "text/html": [
       "        <script type=\"text/javascript\">\n",
       "        window.PlotlyConfig = {MathJaxConfig: 'local'};\n",
       "        if (window.MathJax && window.MathJax.Hub && window.MathJax.Hub.Config) {window.MathJax.Hub.Config({SVG: {font: \"STIX-Web\"}});}\n",
       "        if (typeof require !== 'undefined') {\n",
       "        require.undef(\"plotly\");\n",
       "        requirejs.config({\n",
       "            paths: {\n",
       "                'plotly': ['https://cdn.plot.ly/plotly-2.12.1.min']\n",
       "            }\n",
       "        });\n",
       "        require(['plotly'], function(Plotly) {\n",
       "            window._Plotly = Plotly;\n",
       "        });\n",
       "        }\n",
       "        </script>\n",
       "        "
      ]
     },
     "metadata": {},
     "output_type": "display_data"
    }
   ],
   "source": [
    "init_notebook_mode(connected=True)"
   ]
  },
  {
   "cell_type": "code",
   "execution_count": 5,
   "id": "a24d05e5",
   "metadata": {},
   "outputs": [],
   "source": [
    "data = dict(type = 'chloropleth',\n",
    "            locations = ['TX','CA','HI'],\n",
    "            locationmode = 'USA-states',\n",
    "            colorscale = 'Portland',\n",
    "            text = ['Text1','Text2','Text3'],\n",
    "            z = [1.0,2.0,3.0],\n",
    "            colorbar = {'title':'Color bar'})"
   ]
  },
  {
   "cell_type": "code",
   "execution_count": 6,
   "id": "f3d41568",
   "metadata": {},
   "outputs": [
    {
     "data": {
      "text/plain": [
       "{'type': 'chloropleth',\n",
       " 'locations': ['TX', 'CA', 'HI'],\n",
       " 'locationmode': 'USA-states',\n",
       " 'colorscale': 'Portland',\n",
       " 'text': ['Text1', 'Text2', 'Text3'],\n",
       " 'z': [1.0, 2.0, 3.0],\n",
       " 'colorbar': {'title': 'Color bar'}}"
      ]
     },
     "execution_count": 6,
     "metadata": {},
     "output_type": "execute_result"
    }
   ],
   "source": [
    "data"
   ]
  },
  {
   "cell_type": "code",
   "execution_count": 7,
   "id": "7c937c58",
   "metadata": {},
   "outputs": [],
   "source": [
    "layout = dict(geo={'scope':'usa'})"
   ]
  },
  {
   "cell_type": "code",
   "execution_count": 8,
   "id": "43c6842d",
   "metadata": {},
   "outputs": [
    {
     "ename": "ValueError",
     "evalue": "\n    Invalid element(s) received for the 'data' property of \n        Invalid elements include: [{'type': 'chloropleth', 'locations': ['TX', 'CA', 'HI'], 'locationmode': 'USA-states', 'colorscale': 'Portland', 'text': ['Text1', 'Text2', 'Text3'], 'z': [1.0, 2.0, 3.0], 'colorbar': {'title': 'Color bar'}}]\n\n    The 'data' property is a tuple of trace instances\n    that may be specified as:\n      - A list or tuple of trace instances\n        (e.g. [Scatter(...), Bar(...)])\n      - A single trace instance\n        (e.g. Scatter(...), Bar(...), etc.)\n      - A list or tuple of dicts of string/value properties where:\n        - The 'type' property specifies the trace type\n            One of: ['bar', 'barpolar', 'box', 'candlestick',\n                     'carpet', 'choropleth', 'choroplethmapbox',\n                     'cone', 'contour', 'contourcarpet',\n                     'densitymapbox', 'funnel', 'funnelarea',\n                     'heatmap', 'heatmapgl', 'histogram',\n                     'histogram2d', 'histogram2dcontour', 'icicle',\n                     'image', 'indicator', 'isosurface', 'mesh3d',\n                     'ohlc', 'parcats', 'parcoords', 'pie',\n                     'pointcloud', 'sankey', 'scatter',\n                     'scatter3d', 'scattercarpet', 'scattergeo',\n                     'scattergl', 'scattermapbox', 'scatterpolar',\n                     'scatterpolargl', 'scattersmith',\n                     'scatterternary', 'splom', 'streamtube',\n                     'sunburst', 'surface', 'table', 'treemap',\n                     'violin', 'volume', 'waterfall']\n\n        - All remaining properties are passed to the constructor of\n          the specified trace type\n\n        (e.g. [{'type': 'scatter', ...}, {'type': 'bar, ...}])",
     "output_type": "error",
     "traceback": [
      "\u001b[1;31m---------------------------------------------------------------------------\u001b[0m",
      "\u001b[1;31mValueError\u001b[0m                                Traceback (most recent call last)",
      "Cell \u001b[1;32mIn[8], line 2\u001b[0m\n\u001b[0;32m      1\u001b[0m \u001b[38;5;66;03m#choromap = go.Figure(data=[data], layout=layout)\u001b[39;00m\n\u001b[1;32m----> 2\u001b[0m choromap \u001b[38;5;241m=\u001b[39m go\u001b[38;5;241m.\u001b[39mFigure(data \u001b[38;5;241m=\u001b[39m [data],layout \u001b[38;5;241m=\u001b[39m layout)\n",
      "File \u001b[1;32m~\\anaconda3\\Lib\\site-packages\\plotly\\graph_objs\\_figure.py:594\u001b[0m, in \u001b[0;36mFigure.__init__\u001b[1;34m(self, data, layout, frames, skip_invalid, **kwargs)\u001b[0m\n\u001b[0;32m      5\u001b[0m \u001b[38;5;28;01mdef\u001b[39;00m \u001b[38;5;21m__init__\u001b[39m(\n\u001b[0;32m      6\u001b[0m     \u001b[38;5;28mself\u001b[39m, data\u001b[38;5;241m=\u001b[39m\u001b[38;5;28;01mNone\u001b[39;00m, layout\u001b[38;5;241m=\u001b[39m\u001b[38;5;28;01mNone\u001b[39;00m, frames\u001b[38;5;241m=\u001b[39m\u001b[38;5;28;01mNone\u001b[39;00m, skip_invalid\u001b[38;5;241m=\u001b[39m\u001b[38;5;28;01mFalse\u001b[39;00m, \u001b[38;5;241m*\u001b[39m\u001b[38;5;241m*\u001b[39mkwargs\n\u001b[0;32m      7\u001b[0m ):\n\u001b[0;32m      8\u001b[0m \u001b[38;5;250m    \u001b[39m\u001b[38;5;124;03m\"\"\"\u001b[39;00m\n\u001b[0;32m      9\u001b[0m \u001b[38;5;124;03m    Create a new :class:Figure instance\u001b[39;00m\n\u001b[0;32m     10\u001b[0m \n\u001b[1;32m   (...)\u001b[0m\n\u001b[0;32m    592\u001b[0m \u001b[38;5;124;03m        is invalid AND skip_invalid is False\u001b[39;00m\n\u001b[0;32m    593\u001b[0m \u001b[38;5;124;03m    \"\"\"\u001b[39;00m\n\u001b[1;32m--> 594\u001b[0m     \u001b[38;5;28msuper\u001b[39m(Figure, \u001b[38;5;28mself\u001b[39m)\u001b[38;5;241m.\u001b[39m\u001b[38;5;21m__init__\u001b[39m(data, layout, frames, skip_invalid, \u001b[38;5;241m*\u001b[39m\u001b[38;5;241m*\u001b[39mkwargs)\n",
      "File \u001b[1;32m~\\anaconda3\\Lib\\site-packages\\plotly\\basedatatypes.py:514\u001b[0m, in \u001b[0;36mBaseFigure.__init__\u001b[1;34m(self, data, layout_plotly, frames, skip_invalid, **kwargs)\u001b[0m\n\u001b[0;32m    511\u001b[0m \u001b[38;5;28mself\u001b[39m\u001b[38;5;241m.\u001b[39m_data_validator \u001b[38;5;241m=\u001b[39m DataValidator(set_uid\u001b[38;5;241m=\u001b[39m\u001b[38;5;28mself\u001b[39m\u001b[38;5;241m.\u001b[39m_set_trace_uid)\n\u001b[0;32m    513\u001b[0m \u001b[38;5;66;03m# ### Import traces ###\u001b[39;00m\n\u001b[1;32m--> 514\u001b[0m data \u001b[38;5;241m=\u001b[39m \u001b[38;5;28mself\u001b[39m\u001b[38;5;241m.\u001b[39m_data_validator\u001b[38;5;241m.\u001b[39mvalidate_coerce(\n\u001b[0;32m    515\u001b[0m     data, skip_invalid\u001b[38;5;241m=\u001b[39mskip_invalid, _validate\u001b[38;5;241m=\u001b[39m\u001b[38;5;28mself\u001b[39m\u001b[38;5;241m.\u001b[39m_validate\n\u001b[0;32m    516\u001b[0m )\n\u001b[0;32m    518\u001b[0m \u001b[38;5;66;03m# ### Save tuple of trace objects ###\u001b[39;00m\n\u001b[0;32m    519\u001b[0m \u001b[38;5;28mself\u001b[39m\u001b[38;5;241m.\u001b[39m_data_objs \u001b[38;5;241m=\u001b[39m data\n",
      "File \u001b[1;32m~\\anaconda3\\Lib\\site-packages\\_plotly_utils\\basevalidators.py:2682\u001b[0m, in \u001b[0;36mBaseDataValidator.validate_coerce\u001b[1;34m(self, v, skip_invalid, _validate)\u001b[0m\n\u001b[0;32m   2679\u001b[0m             invalid_els\u001b[38;5;241m.\u001b[39mappend(v_el)\n\u001b[0;32m   2681\u001b[0m \u001b[38;5;28;01mif\u001b[39;00m invalid_els:\n\u001b[1;32m-> 2682\u001b[0m     \u001b[38;5;28mself\u001b[39m\u001b[38;5;241m.\u001b[39mraise_invalid_elements(invalid_els)\n\u001b[0;32m   2684\u001b[0m v \u001b[38;5;241m=\u001b[39m to_scalar_or_list(res)\n\u001b[0;32m   2686\u001b[0m \u001b[38;5;66;03m# Set new UIDs\u001b[39;00m\n",
      "File \u001b[1;32m~\\anaconda3\\Lib\\site-packages\\_plotly_utils\\basevalidators.py:304\u001b[0m, in \u001b[0;36mBaseValidator.raise_invalid_elements\u001b[1;34m(self, invalid_els)\u001b[0m\n\u001b[0;32m    302\u001b[0m     \u001b[38;5;28;01mdef\u001b[39;00m \u001b[38;5;21mraise_invalid_elements\u001b[39m(\u001b[38;5;28mself\u001b[39m, invalid_els):\n\u001b[0;32m    303\u001b[0m         \u001b[38;5;28;01mif\u001b[39;00m invalid_els:\n\u001b[1;32m--> 304\u001b[0m             \u001b[38;5;28;01mraise\u001b[39;00m \u001b[38;5;167;01mValueError\u001b[39;00m(\n\u001b[0;32m    305\u001b[0m \u001b[38;5;250m                \u001b[39m\u001b[38;5;124;03m\"\"\"\u001b[39;00m\n\u001b[0;32m    306\u001b[0m \u001b[38;5;124;03m    Invalid element(s) received for the '{name}' property of {pname}\u001b[39;00m\n\u001b[0;32m    307\u001b[0m \u001b[38;5;124;03m        Invalid elements include: {invalid}\u001b[39;00m\n\u001b[0;32m    308\u001b[0m \n\u001b[0;32m    309\u001b[0m \u001b[38;5;124;03m{valid_clr_desc}\"\"\"\u001b[39;00m\u001b[38;5;241m.\u001b[39mformat(\n\u001b[0;32m    310\u001b[0m                     name\u001b[38;5;241m=\u001b[39m\u001b[38;5;28mself\u001b[39m\u001b[38;5;241m.\u001b[39mplotly_name,\n\u001b[0;32m    311\u001b[0m                     pname\u001b[38;5;241m=\u001b[39m\u001b[38;5;28mself\u001b[39m\u001b[38;5;241m.\u001b[39mparent_name,\n\u001b[0;32m    312\u001b[0m                     invalid\u001b[38;5;241m=\u001b[39minvalid_els[:\u001b[38;5;241m10\u001b[39m],\n\u001b[0;32m    313\u001b[0m                     valid_clr_desc\u001b[38;5;241m=\u001b[39m\u001b[38;5;28mself\u001b[39m\u001b[38;5;241m.\u001b[39mdescription(),\n\u001b[0;32m    314\u001b[0m                 )\n\u001b[0;32m    315\u001b[0m             )\n",
      "\u001b[1;31mValueError\u001b[0m: \n    Invalid element(s) received for the 'data' property of \n        Invalid elements include: [{'type': 'chloropleth', 'locations': ['TX', 'CA', 'HI'], 'locationmode': 'USA-states', 'colorscale': 'Portland', 'text': ['Text1', 'Text2', 'Text3'], 'z': [1.0, 2.0, 3.0], 'colorbar': {'title': 'Color bar'}}]\n\n    The 'data' property is a tuple of trace instances\n    that may be specified as:\n      - A list or tuple of trace instances\n        (e.g. [Scatter(...), Bar(...)])\n      - A single trace instance\n        (e.g. Scatter(...), Bar(...), etc.)\n      - A list or tuple of dicts of string/value properties where:\n        - The 'type' property specifies the trace type\n            One of: ['bar', 'barpolar', 'box', 'candlestick',\n                     'carpet', 'choropleth', 'choroplethmapbox',\n                     'cone', 'contour', 'contourcarpet',\n                     'densitymapbox', 'funnel', 'funnelarea',\n                     'heatmap', 'heatmapgl', 'histogram',\n                     'histogram2d', 'histogram2dcontour', 'icicle',\n                     'image', 'indicator', 'isosurface', 'mesh3d',\n                     'ohlc', 'parcats', 'parcoords', 'pie',\n                     'pointcloud', 'sankey', 'scatter',\n                     'scatter3d', 'scattercarpet', 'scattergeo',\n                     'scattergl', 'scattermapbox', 'scatterpolar',\n                     'scatterpolargl', 'scattersmith',\n                     'scatterternary', 'splom', 'streamtube',\n                     'sunburst', 'surface', 'table', 'treemap',\n                     'violin', 'volume', 'waterfall']\n\n        - All remaining properties are passed to the constructor of\n          the specified trace type\n\n        (e.g. [{'type': 'scatter', ...}, {'type': 'bar, ...}])"
     ]
    }
   ],
   "source": [
    "#choromap = go.Figure(data=[data], layout=layout)\n",
    "choromap = go.Figure(data = [data],layout = layout)"
   ]
  },
  {
   "cell_type": "code",
   "execution_count": null,
   "id": "cd60efa0",
   "metadata": {},
   "outputs": [],
   "source": []
  }
 ],
 "metadata": {
  "kernelspec": {
   "display_name": "Python 3 (ipykernel)",
   "language": "python",
   "name": "python3"
  },
  "language_info": {
   "codemirror_mode": {
    "name": "ipython",
    "version": 3
   },
   "file_extension": ".py",
   "mimetype": "text/x-python",
   "name": "python",
   "nbconvert_exporter": "python",
   "pygments_lexer": "ipython3",
   "version": "3.11.5"
  }
 },
 "nbformat": 4,
 "nbformat_minor": 5
}
